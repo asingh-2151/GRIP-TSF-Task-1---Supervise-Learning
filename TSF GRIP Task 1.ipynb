{
 "cells": [
  {
   "cell_type": "markdown",
   "id": "a6bec76c",
   "metadata": {},
   "source": [
    "# TSF GRIP October 2021"
   ]
  },
  {
   "cell_type": "markdown",
   "id": "5bb37457",
   "metadata": {},
   "source": [
    "## Prediction Using Supervised ML"
   ]
  },
  {
   "cell_type": "markdown",
   "id": "94b19f12",
   "metadata": {},
   "source": [
    "### By- Aakhyat Singh"
   ]
  },
  {
   "cell_type": "markdown",
   "id": "a31881be",
   "metadata": {},
   "source": [
    "Importing the libraries required"
   ]
  },
  {
   "cell_type": "code",
   "execution_count": 1,
   "id": "faaaaf99",
   "metadata": {},
   "outputs": [],
   "source": [
    "import pandas as pd\n",
    "import numpy as np\n",
    "import sklearn\n",
    "import matplotlib.pyplot as plt\n",
    "%matplotlib inline\n",
    "import seaborn as sns\n",
    "from sklearn.model_selection import train_test_split"
   ]
  },
  {
   "cell_type": "markdown",
   "id": "f198ed81",
   "metadata": {},
   "source": [
    "Importing the dataset"
   ]
  },
  {
   "cell_type": "code",
   "execution_count": 2,
   "id": "596ef6e6",
   "metadata": {},
   "outputs": [
    {
     "data": {
      "text/html": [
       "<div>\n",
       "<style scoped>\n",
       "    .dataframe tbody tr th:only-of-type {\n",
       "        vertical-align: middle;\n",
       "    }\n",
       "\n",
       "    .dataframe tbody tr th {\n",
       "        vertical-align: top;\n",
       "    }\n",
       "\n",
       "    .dataframe thead th {\n",
       "        text-align: right;\n",
       "    }\n",
       "</style>\n",
       "<table border=\"1\" class=\"dataframe\">\n",
       "  <thead>\n",
       "    <tr style=\"text-align: right;\">\n",
       "      <th></th>\n",
       "      <th>Hours</th>\n",
       "      <th>Scores</th>\n",
       "    </tr>\n",
       "  </thead>\n",
       "  <tbody>\n",
       "    <tr>\n",
       "      <th>0</th>\n",
       "      <td>2.5</td>\n",
       "      <td>21</td>\n",
       "    </tr>\n",
       "    <tr>\n",
       "      <th>1</th>\n",
       "      <td>5.1</td>\n",
       "      <td>47</td>\n",
       "    </tr>\n",
       "    <tr>\n",
       "      <th>2</th>\n",
       "      <td>3.2</td>\n",
       "      <td>27</td>\n",
       "    </tr>\n",
       "    <tr>\n",
       "      <th>3</th>\n",
       "      <td>8.5</td>\n",
       "      <td>75</td>\n",
       "    </tr>\n",
       "    <tr>\n",
       "      <th>4</th>\n",
       "      <td>3.5</td>\n",
       "      <td>30</td>\n",
       "    </tr>\n",
       "    <tr>\n",
       "      <th>5</th>\n",
       "      <td>1.5</td>\n",
       "      <td>20</td>\n",
       "    </tr>\n",
       "    <tr>\n",
       "      <th>6</th>\n",
       "      <td>9.2</td>\n",
       "      <td>88</td>\n",
       "    </tr>\n",
       "    <tr>\n",
       "      <th>7</th>\n",
       "      <td>5.5</td>\n",
       "      <td>60</td>\n",
       "    </tr>\n",
       "    <tr>\n",
       "      <th>8</th>\n",
       "      <td>8.3</td>\n",
       "      <td>81</td>\n",
       "    </tr>\n",
       "    <tr>\n",
       "      <th>9</th>\n",
       "      <td>2.7</td>\n",
       "      <td>25</td>\n",
       "    </tr>\n",
       "  </tbody>\n",
       "</table>\n",
       "</div>"
      ],
      "text/plain": [
       "   Hours  Scores\n",
       "0    2.5      21\n",
       "1    5.1      47\n",
       "2    3.2      27\n",
       "3    8.5      75\n",
       "4    3.5      30\n",
       "5    1.5      20\n",
       "6    9.2      88\n",
       "7    5.5      60\n",
       "8    8.3      81\n",
       "9    2.7      25"
      ]
     },
     "execution_count": 2,
     "metadata": {},
     "output_type": "execute_result"
    }
   ],
   "source": [
    "d=pd.read_csv('http://bit.ly/w-data')\n",
    "d.head(10)"
   ]
  },
  {
   "cell_type": "code",
   "execution_count": 3,
   "id": "169a9efd",
   "metadata": {},
   "outputs": [
    {
     "name": "stdout",
     "output_type": "stream",
     "text": [
      "<class 'pandas.core.frame.DataFrame'>\n",
      "RangeIndex: 25 entries, 0 to 24\n",
      "Data columns (total 2 columns):\n",
      " #   Column  Non-Null Count  Dtype  \n",
      "---  ------  --------------  -----  \n",
      " 0   Hours   25 non-null     float64\n",
      " 1   Scores  25 non-null     int64  \n",
      "dtypes: float64(1), int64(1)\n",
      "memory usage: 528.0 bytes\n"
     ]
    }
   ],
   "source": [
    "d.info()"
   ]
  },
  {
   "cell_type": "markdown",
   "id": "2e267685",
   "metadata": {},
   "source": [
    "Visualizing the data"
   ]
  },
  {
   "cell_type": "code",
   "execution_count": 4,
   "id": "1b859e6b",
   "metadata": {},
   "outputs": [
    {
     "data": {
      "image/png": "[encoded data removed]",
      "text/plain": [
       "<Figure size 432x288 with 1 Axes>"
      ]
     },
     "metadata": {
      "needs_background": "light"
     },
     "output_type": "display_data"
    }
   ],
   "source": [
    "d.plot(x='Hours',y='Scores',style='o')\n",
    "plt.title('Number of hours spent in studying v/s Scores received')\n",
    "plt.xlabel('Number of hours spent in studying')\n",
    "plt.ylabel('Scores received in examination')\n",
    "plt.show()"
   ]
  },
  {
   "cell_type": "markdown",
   "id": "1cb45ba2",
   "metadata": {},
   "source": [
    "Preparing data for further analysis by dividing it into **attributes** and **labels**"
   ]
  },
  {
   "cell_type": "code",
   "execution_count": 5,
   "id": "060f6059",
   "metadata": {},
   "outputs": [],
   "source": [
    "X=d.iloc[:,:-1].values\n",
    "Y=d.iloc[:,1].values"
   ]
  },
  {
   "cell_type": "code",
   "execution_count": 6,
   "id": "330a0fe1",
   "metadata": {},
   "outputs": [
    {
     "name": "stdout",
     "output_type": "stream",
     "text": [
      "(20, 1) (20,)\n",
      "(5, 1) (5,)\n"
     ]
    }
   ],
   "source": [
    "Xtrain,Xtest,Ytrain,Ytest=train_test_split(X,Y,test_size=0.2, random_state=0)\n",
    "print(Xtrain.shape,Ytrain.shape)\n",
    "print(Xtest.shape,Ytest.shape)"
   ]
  },
  {
   "cell_type": "markdown",
   "id": "dde0d4d1",
   "metadata": {},
   "source": [
    "### Training the Algorithm"
   ]
  },
  {
   "cell_type": "code",
   "execution_count": 7,
   "id": "eb39f16e",
   "metadata": {},
   "outputs": [
    {
     "name": "stdout",
     "output_type": "stream",
     "text": [
      "Training completed\n"
     ]
    }
   ],
   "source": [
    "from sklearn.linear_model import LinearRegression\n",
    "lr=LinearRegression()\n",
    "lr.fit(Xtrain,Ytrain)\n",
    "print(\"Training completed\")"
   ]
  },
  {
   "cell_type": "code",
   "execution_count": 8,
   "id": "a7a0a96c",
   "metadata": {},
   "outputs": [
    {
     "data": {
      "image/png": "[encoded data removed]",
      "text/plain": [
       "<Figure size 432x288 with 1 Axes>"
      ]
     },
     "metadata": {
      "needs_background": "light"
     },
     "output_type": "display_data"
    }
   ],
   "source": [
    "#Plotting the Linear Regression line\n",
    "l=(lr.coef_*X)+lr.intercept_\n",
    "#Plotting the test data\n",
    "plt.scatter(X,Y)\n",
    "plt.plot(X,l)\n",
    "plt.title('Linear Model compared with given data')\n",
    "plt.xlabel('Number of hours spent in studying')\n",
    "plt.ylabel('Scores received in examination')\n",
    "plt.show()"
   ]
  },
  {
   "cell_type": "markdown",
   "id": "4082c258",
   "metadata": {},
   "source": [
    "### Making predictions"
   ]
  },
  {
   "cell_type": "code",
   "execution_count": 9,
   "id": "8486a32a",
   "metadata": {},
   "outputs": [],
   "source": [
    "#Predicting the scores\n",
    "Ypred=lr.predict(Xtest)"
   ]
  },
  {
   "cell_type": "code",
   "execution_count": 10,
   "id": "a32e1d15",
   "metadata": {},
   "outputs": [
    {
     "name": "stdout",
     "output_type": "stream",
     "text": [
      "   Real  Predicted\n",
      "0    20  16.884145\n",
      "1    27  33.732261\n",
      "2    69  75.357018\n",
      "3    30  26.794801\n",
      "4    62  60.491033\n"
     ]
    }
   ],
   "source": [
    "#Comparing real scores with the predicted ones as per the model\n",
    "df=pd.DataFrame({'Real':Ytest,'Predicted':Ypred})\n",
    "print(df)"
   ]
  },
  {
   "cell_type": "code",
   "execution_count": 11,
   "id": "4e4650c1",
   "metadata": {},
   "outputs": [
    {
     "name": "stdout",
     "output_type": "stream",
     "text": [
      "Mean Absolute Error =  4.183859899002975\n"
     ]
    }
   ],
   "source": [
    "#Calculating Mean Absolute Error of given model\n",
    "t=sklearn.metrics.mean_absolute_error(Ytest,Ypred)\n",
    "print(\"Mean Absolute Error = \",t)"
   ]
  },
  {
   "cell_type": "markdown",
   "id": "9dcff261",
   "metadata": {},
   "source": [
    "Calculating the score a student would obtain if he/she studied for 9.25 hours a day"
   ]
  },
  {
   "cell_type": "code",
   "execution_count": 12,
   "id": "acf52023",
   "metadata": {},
   "outputs": [
    {
     "name": "stdout",
     "output_type": "stream",
     "text": [
      "Number of hours spent in studying = 9.25\n",
      "Score predicted =  93.69173248737538\n"
     ]
    }
   ],
   "source": [
    "calc=lr.predict([[9.25]])\n",
    "print(\"Number of hours spent in studying = 9.25\")\n",
    "print(\"Score predicted = \",calc[0])"
   ]
  }
 ],
 "metadata": {
  "kernelspec": {
   "display_name": "Python 3",
   "language": "python",
   "name": "python3"
  },
  "language_info": {
   "codemirror_mode": {
    "name": "ipython",
    "version": 3
   },
   "file_extension": ".py",
   "mimetype": "text/x-python",
   "name": "python",
   "nbconvert_exporter": "python",
   "pygments_lexer": "ipython3",
   "version": "3.8.8"
  }
 },
 "nbformat": 4,
 "nbformat_minor": 5
}
